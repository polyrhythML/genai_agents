{
 "cells": [
  {
   "cell_type": "code",
   "execution_count": 1,
   "id": "0dae24b0-77f8-468f-82f8-a8f73b42ef2a",
   "metadata": {},
   "outputs": [
    {
     "name": "stderr",
     "output_type": "stream",
     "text": [
      "WARNING[XFORMERS]: xFormers can't load C++/CUDA extensions. xFormers was built for:\n",
      "    PyTorch 2.1.2+cu121 with CUDA 1201 (you have 2.2.2+cu121)\n",
      "    Python  3.10.13 (you have 3.10.13)\n",
      "  Please reinstall xformers (see https://github.com/facebookresearch/xformers#installing-xformers)\n",
      "  Memory-efficient attention, SwiGLU, sparse and more won't be available.\n",
      "  Set XFORMERS_MORE_DETAILS=1 for more details\n"
     ]
    },
    {
     "data": {
      "application/vnd.jupyter.widget-view+json": {
       "model_id": "1a93880f06784d619d30b0a4c9ac93db",
       "version_major": 2,
       "version_minor": 0
      },
      "text/plain": [
       "Loading pipeline components...:   0%|          | 0/7 [00:00<?, ?it/s]"
      ]
     },
     "metadata": {},
     "output_type": "display_data"
    }
   ],
   "source": [
    "from flask import Flask, request, send_file\n",
    "import torch\n",
    "from diffusers import StableDiffusionPipeline\n",
    "from io import BytesIO\n",
    "\n",
    "app = Flask(__name__)\n",
    "\n",
    "# Load the model\n",
    "pipe = StableDiffusionPipeline.from_pretrained(\"runwayml/stable-diffusion-v1-5\", torch_dtype=torch.float16)\n",
    "pipe = pipe.to(\"cuda\")\n",
    "\n",
    "@app.route('/generate_image', methods=['POST'])\n",
    "def generate_image():\n",
    "    # Get the prompt from the request\n",
    "    prompt = request.json.get('prompt', '')\n",
    "    \n",
    "    # Generate the image\n",
    "    image = pipe(prompt).images[0]\n",
    "    \n",
    "    # Convert the image to PNG format\n",
    "    image_bytes = BytesIO()\n",
    "    image.save(image_bytes, format='PNG')\n",
    "    image_bytes.seek(0)\n",
    "    \n",
    "    # Return the image\n",
    "    return send_file(image_bytes, mimetype='image/png')\n"
   ]
  },
  {
   "cell_type": "code",
   "execution_count": 2,
   "id": "0979c450-c61d-4be2-b6d6-fcfe88c30600",
   "metadata": {},
   "outputs": [
    {
     "name": "stdout",
     "output_type": "stream",
     "text": [
      "Image saved successfully.\n"
     ]
    }
   ],
   "source": [
    "import requests\n",
    "import json\n",
    "\n",
    "# The URL of your Flask API endpoint\n",
    "url = \"http://localhost:5000/generate_image\"\n",
    "\n",
    "# The prompt you want to send\n",
    "prompt = \"a photo of an astronaut riding a horse on mars\"\n",
    "\n",
    "# Prepare the data to send in the POST request\n",
    "data = json.dumps({\"prompt\": prompt})\n",
    "\n",
    "# Send the POST request\n",
    "response = requests.post(url, data=data, headers={'Content-Type': 'application/json'})\n",
    "\n",
    "# Check if the request was successful\n",
    "if response.status_code == 200:\n",
    "    # Save the image to a file\n",
    "    with open(\"generated_image.png\", \"wb\") as f:\n",
    "        f.write(response.content)\n",
    "    print(\"Image saved successfully.\")\n",
    "else:\n",
    "    print(f\"Failed to generate image. Status code: {response.status_code}\")\n"
   ]
  },
  {
   "cell_type": "markdown",
   "id": "3b2239f5-4a82-4e45-92bf-8cf406f2f1ab",
   "metadata": {},
   "source": [
    "# Pricing model of microsoft BingAI\n",
    "\n",
    "The Bing Search API offers a range of capabilities to enable search functionalities in your applications. Here are the key details about the pricing:\n",
    "\n",
    "No Upfront Cost or Termination Fees: You pay only for what you use.\n",
    "Free Tier: The free tier allows up to 1,000 transactions per month across various features.\n",
    "Paid Tiers:\n",
    "S1: Offers 250 transactions per second (TPS) and includes features like Bing Web Search, Bing Image Search, and Bing News Search.\n",
    "Large Language Models: For more advanced use cases, the pricing ranges from $28.00 per 1,000 transactions to $200.00 per 1,000 transactions12.\n",
    "Keep in mind that Microsoft has recently increased the price of the Bing Search API, citing improvements in AI technology. Some tiers have seen substantial increases, with analytics costs rising from $1 per 1,000 requests to $28 per 1,000 requests1. If you’re considering using the API, I recommend checking the official Bing Search API Pricing page for the most up-to-date information3."
   ]
  },
  {
   "cell_type": "code",
   "execution_count": null,
   "id": "cdd14048-82bf-443a-b78b-ea804c4d8d28",
   "metadata": {},
   "outputs": [],
   "source": []
  }
 ],
 "metadata": {
  "kernelspec": {
   "display_name": "Python 3 (ipykernel)",
   "language": "python",
   "name": "python3"
  },
  "language_info": {
   "codemirror_mode": {
    "name": "ipython",
    "version": 3
   },
   "file_extension": ".py",
   "mimetype": "text/x-python",
   "name": "python",
   "nbconvert_exporter": "python",
   "pygments_lexer": "ipython3",
   "version": "3.10.13"
  }
 },
 "nbformat": 4,
 "nbformat_minor": 5
}
